{
 "cells": [
  {
   "cell_type": "markdown",
   "metadata": {},
   "source": [
    "# Python Introduction to Special Library\n",
    "## Claifiai API tutorial: Using General Classifier\n",
    "### สร้าง image classification แบบไม่ต้อง deep code\n",
    "\n",
    "### shape and type conversion\n",
    "<img src = \"pic_data/Dextract.png\" width = \"500\" align=\"center\">\n",
    "\n",
    "<img src = \"pic_data/elephant_logo.jpg\" width = \"300\">\n",
    "\n",
    "https://www.facebook.com/elephant.data.th/"
   ]
  },
  {
   "cell_type": "markdown",
   "metadata": {},
   "source": [
    "# Claifiai API tutorial: Using General Classifier\n",
    "\n",
    "### Installation:\n",
    "\n",
    "pip install clarifai\n",
    "\n",
    "reference:\n",
    "\n",
    "### Get Key from--> Sign Up:\n",
    "https://clarifai.com/\n",
    "\n",
    "\n",
    "### Additional documents\n",
    "\n",
    "How to:\n",
    "https://github.com/Clarifai/clarifai-python\n",
    "\n",
    "Tutorial:\n",
    "https://clarifai-python.readthedocs.io/en/latest/tutorial/\n",
    "\n",
    "\n",
    "\n",
    "Pricing plan:\n",
    "https://clarifai.com/pricing\n",
    "\n"
   ]
  },
  {
   "cell_type": "code",
   "execution_count": null,
   "metadata": {},
   "outputs": [],
   "source": [
    "# Set Up\n",
    "from clarifai.rest import ClarifaiApp\n",
    "app = ClarifaiApp(api_key='4ad8dcab409b433ca20487b5eaed8841') # แก้ api key ตรงนี้"
   ]
  },
  {
   "cell_type": "code",
   "execution_count": null,
   "metadata": {},
   "outputs": [],
   "source": [
    "model = app.public_models.general_model"
   ]
  },
  {
   "cell_type": "markdown",
   "metadata": {},
   "source": [
    "## Picture from internet\n",
    "\n",
    "<img src = \"https://scontent.fbkk2-7.fna.fbcdn.net/v/t1.0-9/36696155_10156474049727888_8477617778415632384_o.jpg?_nc_cat=101&_nc_eui2=AeFAMtC07nOHxKoPKJl7WYQ56f_ORu06Y4ia6aFXv6ugmx2cVqnUvBxmrhPycKUwY1HS9kW8z5M-nTZ4Rkacmld6KPa7bOQ3Dh_WNAwXnlRuBQ&_nc_ht=scontent.fbkk2-7.fna&oh=965485fa701340032105fbdab1e038ea&oe=5CA599FF\" width = 700>\n",
    "\n"
   ]
  },
  {
   "cell_type": "code",
   "execution_count": null,
   "metadata": {},
   "outputs": [],
   "source": [
    "#response = model.predict_by_url(url='https://samples.clarifai.com/metro-north.jpg')\n",
    "# ทดสอบแก้ค่า url_pic = '' เป็นรูปที่เราอยากทดสอบ จาก internet (หาจาก facebook ก็ได้ครับ)\n",
    "url_pic = 'https://scontent.fbkk2-7.fna.fbcdn.net/v/t1.0-9/36696155_10156474049727888_8477617778415632384_o.jpg?_nc_cat=101&_nc_eui2=AeFAMtC07nOHxKoPKJl7WYQ56f_ORu06Y4ia6aFXv6ugmx2cVqnUvBxmrhPycKUwY1HS9kW8z5M-nTZ4Rkacmld6KPa7bOQ3Dh_WNAwXnlRuBQ&_nc_ht=scontent.fbkk2-7.fna&oh=965485fa701340032105fbdab1e038ea&oe=5CA599FF'\n",
    "\n",
    "# ทำ prediction from image\n",
    "response = model.predict_by_url(url = url_pic)\n",
    "\n",
    "# response จะเป็น api \n",
    "response"
   ]
  },
  {
   "cell_type": "code",
   "execution_count": null,
   "metadata": {},
   "outputs": [],
   "source": [
    "# concept จะมีโครงสร้างเป็น list กับ dict (หรือ JSON) สามารถเอามาดึงต่อได้ง่ายๆ\n",
    "concepts = response['outputs'][0]['data']['concepts']\n",
    "concepts"
   ]
  },
  {
   "cell_type": "code",
   "execution_count": null,
   "metadata": {},
   "outputs": [],
   "source": [
    "# ดูความน่าจะเป็ฯของแต่ละ concepts\n",
    "for concept in concepts:\n",
    "    print(concept['name'], concept['value'])"
   ]
  },
  {
   "cell_type": "markdown",
   "metadata": {},
   "source": [
    "## Picture from local\n",
    "\n",
    "### Peet_family.jpg\n",
    "\n",
    "<img src = \"Peet_family.jpg\" width = 700>\n",
    "\n",
    "\n",
    "### cats.jpeg\n",
    "<img src = \"cats.jpeg\" width = 700>\n",
    "\n"
   ]
  },
  {
   "cell_type": "code",
   "execution_count": null,
   "metadata": {},
   "outputs": [],
   "source": [
    "# ถ้าจะศึกษา method หาจาก help หรือ ศึกษาจาก documentation\n",
    "help(model)"
   ]
  },
  {
   "cell_type": "code",
   "execution_count": null,
   "metadata": {},
   "outputs": [],
   "source": [
    "#response = model.predict_by_url(url='https://samples.clarifai.com/metro-north.jpg')\n",
    "#file_dir = 'Peet_family.jpg'\n",
    "file_dir = 'cats.jpeg'\n",
    "\n",
    "# ทำ prediction from image\n",
    "response = model.predict_by_filename(filename=file_dir)\n",
    "response"
   ]
  },
  {
   "cell_type": "code",
   "execution_count": null,
   "metadata": {},
   "outputs": [],
   "source": [
    "concepts = response['outputs'][0]['data']['concepts']\n",
    "for concept in concepts:\n",
    "    print(concept['name'], concept['value'])"
   ]
  },
  {
   "cell_type": "code",
   "execution_count": null,
   "metadata": {},
   "outputs": [],
   "source": [
    "## ทดลองเล่นรูปอื่นๆได้ครับ"
   ]
  }
 ],
 "metadata": {
  "kernelspec": {
   "display_name": "Python 3",
   "language": "python",
   "name": "python3"
  },
  "language_info": {
   "codemirror_mode": {
    "name": "ipython",
    "version": 3
   },
   "file_extension": ".py",
   "mimetype": "text/x-python",
   "name": "python",
   "nbconvert_exporter": "python",
   "pygments_lexer": "ipython3",
   "version": "3.7.0"
  }
 },
 "nbformat": 4,
 "nbformat_minor": 2
}

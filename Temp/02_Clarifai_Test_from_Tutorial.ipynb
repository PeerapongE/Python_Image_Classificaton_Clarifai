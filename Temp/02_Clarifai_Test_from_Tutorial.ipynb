{
 "cells": [
  {
   "cell_type": "markdown",
   "metadata": {},
   "source": [
    "# Claifiai API tutorial -- Train your own class\n",
    "\n",
    "Installation:\n",
    "\n",
    "!pip install clarifai\n",
    "\n",
    "reference:\n",
    "\n",
    "How to:\n",
    "https://github.com/Clarifai/clarifai-python\n",
    "\n",
    "Tutorial:\n",
    "https://clarifai-python.readthedocs.io/en/latest/tutorial/\n",
    "\n",
    "\n",
    "\n",
    "Pricing plan:\n",
    "https://clarifai.com/pricing\n",
    "\n"
   ]
  },
  {
   "cell_type": "code",
   "execution_count": null,
   "metadata": {},
   "outputs": [],
   "source": [
    "# Set Up\n",
    "from clarifai.rest import ClarifaiApp\n",
    "app = ClarifaiApp(api_key='4ad8dcab409b433ca20487b5eaed8841') # แก้ api key ตรงนี้"
   ]
  },
  {
   "cell_type": "markdown",
   "metadata": {},
   "source": [
    "### Picture puppy.jpg\n",
    "\n",
    "<img src = \"https://samples.clarifai.com/puppy.jpeg\" width = 500>\n",
    "\n",
    "### wedding.jpg\n",
    "\n",
    "<img src = \"https://samples.clarifai.com/wedding.jpg\" width = 500>\n",
    "\n"
   ]
  },
  {
   "cell_type": "code",
   "execution_count": null,
   "metadata": {},
   "outputs": [],
   "source": [
    "# จะทำการ upload ไปใน repository ของ clarifai\n",
    "\n",
    "app.inputs.create_image_from_url(url='https://samples.clarifai.com/puppy.jpeg', concepts=['my puppy']) # ใส่รูปนี้ว่าเป็น positive concept = my puppy\n",
    "app.inputs.create_image_from_url(url='https://samples.clarifai.com/wedding.jpg', not_concepts=['my puppy']) # ใส่รูปนี้ว่าเป็น negative concept = my puppy\n"
   ]
  },
  {
   "cell_type": "code",
   "execution_count": null,
   "metadata": {},
   "outputs": [],
   "source": [
    "# ลองดู การใส่ image\n",
    "help(app.inputs)\n",
    "\n",
    "# ถ้าจะ train จาก local ใช้ module คือ\n",
    "# create_image_from_filename"
   ]
  },
  {
   "cell_type": "code",
   "execution_count": null,
   "metadata": {},
   "outputs": [],
   "source": [
    "# สร้าง model ชื่อ puppy\n",
    "# จาก concept: my puppy (ทั้ง positive และ negative)\n",
    "\n",
    "model = app.models.create(model_id=\"puppy\", concepts=[\"my puppy\"])"
   ]
  },
  {
   "cell_type": "code",
   "execution_count": null,
   "metadata": {},
   "outputs": [],
   "source": [
    "# train model\n",
    "\n",
    "model.train()"
   ]
  },
  {
   "cell_type": "code",
   "execution_count": null,
   "metadata": {},
   "outputs": [],
   "source": [
    "# Prediction from model โดยการ get model ชื่อ puppy (อันที่เราเพิ่ง train ไป)\n",
    "\n",
    "model = app.models.get('puppy')\n",
    "# response = model.predict_by_url('https://samples.clarifai.com/metro-north.jpg') # รูปที่ไม่เกี่ยวกันเลย\n",
    "#response = model.predict_by_url('https://samples.clarifai.com/puppy.jpeg') # puppy actual (get ~ 1)\n",
    "response = model.predict_by_url('https://pbs.twimg.com/profile_images/836837459975602176/hLZd5ka3_400x400.jpg') # similar puppy (get some value)\n",
    "\n",
    "# response จะเป็น .json file\n",
    "response"
   ]
  },
  {
   "cell_type": "code",
   "execution_count": null,
   "metadata": {},
   "outputs": [],
   "source": [
    "# result ออกมาแค่ class เดียว คือ my puppy\n",
    "\n",
    "concepts = response['outputs'][0]['data']['concepts']\n",
    "for concept in concepts:\n",
    "    print(concept['name'], concept['value'])"
   ]
  },
  {
   "cell_type": "code",
   "execution_count": null,
   "metadata": {},
   "outputs": [],
   "source": []
  }
 ],
 "metadata": {
  "kernelspec": {
   "display_name": "Python 3",
   "language": "python",
   "name": "python3"
  },
  "language_info": {
   "codemirror_mode": {
    "name": "ipython",
    "version": 3
   },
   "file_extension": ".py",
   "mimetype": "text/x-python",
   "name": "python",
   "nbconvert_exporter": "python",
   "pygments_lexer": "ipython3",
   "version": "3.7.0"
  }
 },
 "nbformat": 4,
 "nbformat_minor": 2
}
